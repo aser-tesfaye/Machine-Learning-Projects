{
 "cells": [
  {
   "cell_type": "markdown",
   "id": "6e2abc75-6443-4529-a7e5-cc706eb0ef3e",
   "metadata": {},
   "source": [
    "# Hate Speech Detection\n",
    "\n",
    "## 1. Title\n",
    "Hate Speech Detection using Machine Learning\n",
    "\n",
    "## 2. Problem Definition\n",
    "The task is a **classification** problem where the goal is to identify whether a given text contains hate speech or not.\n",
    "\n",
    "## 3. Data\n",
    "The data involves sourcing hate speech related datasets. Parameters include various textual features and labels indicating hate speech presence.\n",
    "\n",
    "## 4. Evaluation\n",
    "The evaluation metric defined for this project includes:\n",
    "- **Accuracy**\n",
    "- **Precision**\n",
    "- **Recall**\n",
    "- **F1-Score**\n",
    "\n",
    "## 5. Features\n",
    "Features include textual content and engineered features such as word count, sentiment scores, etc.\n",
    "\n",
    "## 6. Preparing the Tools"
   ]
  },
  {
   "cell_type": "code",
   "execution_count": 25,
   "id": "e9f13418-910f-4790-9a5b-5b4fb73784fc",
   "metadata": {
    "tags": []
   },
   "outputs": [],
   "source": [
    "# Importing necessary libraries\n",
    "import pandas as pd\n",
    "import numpy as np\n",
    "import matplotlib.pyplot as plt\n",
    "import seaborn as sns\n",
    "from sklearn.model_selection import train_test_split\n",
    "from sklearn.feature_extraction.text import CountVectorizer, TfidfVectorizer\n",
    "from sklearn.naive_bayes import MultinomialNB\n",
    "from sklearn.metrics import classification_report, confusion_matrix, accuracy_score\n",
    "import re\n",
    "import nltk\n",
    "stemmer = nltk.SnowballStemmer(\"english\")\n",
    "from nltk.corpus import stopwords\n",
    "import string\n",
    "stopword=set(stopwords.words('english'))"
   ]
  },
  {
   "cell_type": "markdown",
   "id": "18d07b23-48bd-4726-b3a1-1bae680d0ebb",
   "metadata": {},
   "source": [
    "## 7. Load Data"
   ]
  },
  {
   "cell_type": "code",
   "execution_count": 27,
   "id": "571d2cd1-57ba-4e29-85ea-f2f849723226",
   "metadata": {
    "tags": []
   },
   "outputs": [
    {
     "data": {
      "text/html": [
       "<div>\n",
       "<style scoped>\n",
       "    .dataframe tbody tr th:only-of-type {\n",
       "        vertical-align: middle;\n",
       "    }\n",
       "\n",
       "    .dataframe tbody tr th {\n",
       "        vertical-align: top;\n",
       "    }\n",
       "\n",
       "    .dataframe thead th {\n",
       "        text-align: right;\n",
       "    }\n",
       "</style>\n",
       "<table border=\"1\" class=\"dataframe\">\n",
       "  <thead>\n",
       "    <tr style=\"text-align: right;\">\n",
       "      <th></th>\n",
       "      <th>Unnamed: 0</th>\n",
       "      <th>count</th>\n",
       "      <th>hate_speech</th>\n",
       "      <th>offensive_language</th>\n",
       "      <th>neither</th>\n",
       "      <th>class</th>\n",
       "      <th>tweet</th>\n",
       "    </tr>\n",
       "  </thead>\n",
       "  <tbody>\n",
       "    <tr>\n",
       "      <th>0</th>\n",
       "      <td>0</td>\n",
       "      <td>3</td>\n",
       "      <td>0</td>\n",
       "      <td>0</td>\n",
       "      <td>3</td>\n",
       "      <td>2</td>\n",
       "      <td>!!! RT @mayasolovely: As a woman you shouldn't...</td>\n",
       "    </tr>\n",
       "    <tr>\n",
       "      <th>1</th>\n",
       "      <td>1</td>\n",
       "      <td>3</td>\n",
       "      <td>0</td>\n",
       "      <td>3</td>\n",
       "      <td>0</td>\n",
       "      <td>1</td>\n",
       "      <td>!!!!! RT @mleew17: boy dats cold...tyga dwn ba...</td>\n",
       "    </tr>\n",
       "    <tr>\n",
       "      <th>2</th>\n",
       "      <td>2</td>\n",
       "      <td>3</td>\n",
       "      <td>0</td>\n",
       "      <td>3</td>\n",
       "      <td>0</td>\n",
       "      <td>1</td>\n",
       "      <td>!!!!!!! RT @UrKindOfBrand Dawg!!!! RT @80sbaby...</td>\n",
       "    </tr>\n",
       "    <tr>\n",
       "      <th>3</th>\n",
       "      <td>3</td>\n",
       "      <td>3</td>\n",
       "      <td>0</td>\n",
       "      <td>2</td>\n",
       "      <td>1</td>\n",
       "      <td>1</td>\n",
       "      <td>!!!!!!!!! RT @C_G_Anderson: @viva_based she lo...</td>\n",
       "    </tr>\n",
       "    <tr>\n",
       "      <th>4</th>\n",
       "      <td>4</td>\n",
       "      <td>6</td>\n",
       "      <td>0</td>\n",
       "      <td>6</td>\n",
       "      <td>0</td>\n",
       "      <td>1</td>\n",
       "      <td>!!!!!!!!!!!!! RT @ShenikaRoberts: The shit you...</td>\n",
       "    </tr>\n",
       "  </tbody>\n",
       "</table>\n",
       "</div>"
      ],
      "text/plain": [
       "   Unnamed: 0  count  hate_speech  offensive_language  neither  class  \\\n",
       "0           0      3            0                   0        3      2   \n",
       "1           1      3            0                   3        0      1   \n",
       "2           2      3            0                   3        0      1   \n",
       "3           3      3            0                   2        1      1   \n",
       "4           4      6            0                   6        0      1   \n",
       "\n",
       "                                               tweet  \n",
       "0  !!! RT @mayasolovely: As a woman you shouldn't...  \n",
       "1  !!!!! RT @mleew17: boy dats cold...tyga dwn ba...  \n",
       "2  !!!!!!! RT @UrKindOfBrand Dawg!!!! RT @80sbaby...  \n",
       "3  !!!!!!!!! RT @C_G_Anderson: @viva_based she lo...  \n",
       "4  !!!!!!!!!!!!! RT @ShenikaRoberts: The shit you...  "
      ]
     },
     "execution_count": 27,
     "metadata": {},
     "output_type": "execute_result"
    }
   ],
   "source": [
    "# Load the dataset\n",
    "df = pd.read_csv('hate_speech_data.csv')  # Example path to the dataset\n",
    "df.head()"
   ]
  },
  {
   "cell_type": "markdown",
   "id": "b37b461f-af8e-47a2-ab02-ce35874950e5",
   "metadata": {},
   "source": [
    "## 8. Data Exploration (Exploratory Data Analysis or EDA)\n",
    "\n",
    "### What question(s) are you trying to solve?\n",
    "Identifying texts containing hate speech.\n",
    "\n",
    "### What kind of data do you have and how do you treat different types?\n",
    "The data is primarily text-based.\n",
    "\n",
    "### What is missing from the data and how do you deal with it?\n",
    "Handle missing data by imputing or dropping as necessary.\n",
    "\n",
    "### Compare different columns to each other, compare them to the target variable, and correlation between independent variables.\n"
   ]
  },
  {
   "cell_type": "code",
   "execution_count": 38,
   "id": "42bb182b-466f-4ce5-9512-fab62de40317",
   "metadata": {
    "tags": []
   },
   "outputs": [],
   "source": [
    "# Checking for missing values\n",
    "df.isnull().sum()\n",
    "\n",
    "df[\"labels\"] = df[\"class\"].map({0: \"Hate Speech\", \n",
    "                                   1: \"Offensive Language\", \n",
    "                                   2: \"No Hate and Offensive\"})"
   ]
  },
  {
   "cell_type": "code",
   "execution_count": 40,
   "id": "7870e720-77dd-4c55-8bea-d5e811744a00",
   "metadata": {
    "tags": []
   },
   "outputs": [
    {
     "data": {
      "image/png": "[encoded data removed]",
      "text/plain": [
       "<Figure size 640x480 with 1 Axes>"
      ]
     },
     "metadata": {},
     "output_type": "display_data"
    }
   ],
   "source": [
    "# Visualizing class distribution\n",
    "sns.countplot(x=df['labels'])\n",
    "plt.show()"
   ]
  },
  {
   "cell_type": "markdown",
   "id": "f9209053-7e81-4257-b7fa-bbc1adb62bbe",
   "metadata": {},
   "source": [
    "## 9. Modelling"
   ]
  },
  {
   "cell_type": "code",
   "execution_count": 52,
   "id": "cc757a29-a7d3-418f-af80-005ccac8bdd8",
   "metadata": {
    "tags": []
   },
   "outputs": [],
   "source": [
    "# Features and labels\n",
    "X = df[\"tweet\"]\n",
    "y = df[\"labels\"]\n",
    "\n",
    "# Splitting data into training and testing sets\n",
    "X_train, X_test, y_train, y_test = train_test_split(X, y, test_size=0.2, random_state=42)\n",
    "\n",
    "# Vectorizing text data\n",
    "vectorizer = TfidfVectorizer(max_features=1000)\n",
    "X_train_vect = vectorizer.fit_transform(X_train)\n",
    "X_test_vect = vectorizer.transform(X_test)\n",
    "\n",
    "# Model choices and comparison\n",
    "model = MultinomialNB()\n",
    "model.fit(X_train_vect, y_train)\n",
    "\n",
    "# Making predictions\n",
    "y_pred = model.predict(X_test_vect)\n"
   ]
  },
  {
   "cell_type": "markdown",
   "id": "74c1ccb3-734d-4d3b-b110-e114b4cb62b7",
   "metadata": {},
   "source": [
    "## 10. Evaluating the Model"
   ]
  },
  {
   "cell_type": "code",
   "execution_count": 55,
   "id": "fe397b29-3191-49e0-8161-ce381b0a3fef",
   "metadata": {
    "tags": []
   },
   "outputs": [
    {
     "name": "stdout",
     "output_type": "stream",
     "text": [
      "                       precision    recall  f1-score   support\n",
      "\n",
      "          Hate Speech       1.00      0.01      0.01       290\n",
      "No Hate and Offensive       0.91      0.42      0.57       835\n",
      "   Offensive Language       0.83      0.99      0.91      3832\n",
      "\n",
      "             accuracy                           0.84      4957\n",
      "            macro avg       0.91      0.47      0.50      4957\n",
      "         weighted avg       0.86      0.84      0.80      4957\n",
      "\n"
     ]
    },
    {
     "data": {
      "image/png": "[encoded data removed]",
      "text/plain": [
       "<Figure size 640x480 with 2 Axes>"
      ]
     },
     "metadata": {},
     "output_type": "display_data"
    },
    {
     "name": "stdout",
     "output_type": "stream",
     "text": [
      "Accuracy: 0.8384103288279201\n"
     ]
    }
   ],
   "source": [
    "# Classification report\n",
    "print(classification_report(y_test, y_pred))\n",
    "\n",
    "# Confusion matrix\n",
    "cm = confusion_matrix(y_test, y_pred)\n",
    "sns.heatmap(cm, annot=True, fmt='d')\n",
    "plt.show()\n",
    "\n",
    "# Accuracy score\n",
    "accuracy = accuracy_score(y_test, y_pred)\n",
    "print(f'Accuracy: {accuracy}')"
   ]
  },
  {
   "cell_type": "markdown",
   "id": "436b5949-47e3-42ae-ad9b-99ec32e350ee",
   "metadata": {},
   "source": [
    "## 11. Feature Importance\n",
    "\n",
    "### Feature importance is not directly available for Naive Bayes but can be approximated using the feature log probabilities.\n"
   ]
  },
  {
   "cell_type": "code",
   "execution_count": 71,
   "id": "887135dc-c564-4d9e-89c2-c02a115857c9",
   "metadata": {
    "tags": []
   },
   "outputs": [
    {
     "data": {
      "text/html": [
       "<div>\n",
       "<style scoped>\n",
       "    .dataframe tbody tr th:only-of-type {\n",
       "        vertical-align: middle;\n",
       "    }\n",
       "\n",
       "    .dataframe tbody tr th {\n",
       "        vertical-align: top;\n",
       "    }\n",
       "\n",
       "    .dataframe thead th {\n",
       "        text-align: right;\n",
       "    }\n",
       "</style>\n",
       "<table border=\"1\" class=\"dataframe\">\n",
       "  <thead>\n",
       "    <tr style=\"text-align: right;\">\n",
       "      <th></th>\n",
       "      <th>Hate Speech</th>\n",
       "      <th>Offensive Language</th>\n",
       "      <th>No Hate and Offensive</th>\n",
       "    </tr>\n",
       "  </thead>\n",
       "  <tbody>\n",
       "    <tr>\n",
       "      <th>bird</th>\n",
       "      <td>-8.329240</td>\n",
       "      <td>-4.718112</td>\n",
       "      <td>3.611128</td>\n",
       "    </tr>\n",
       "    <tr>\n",
       "      <th>charlie</th>\n",
       "      <td>-8.329240</td>\n",
       "      <td>-4.737702</td>\n",
       "      <td>3.591539</td>\n",
       "    </tr>\n",
       "    <tr>\n",
       "      <th>yankees</th>\n",
       "      <td>-7.849915</td>\n",
       "      <td>-4.787287</td>\n",
       "      <td>3.062628</td>\n",
       "    </tr>\n",
       "    <tr>\n",
       "      <th>birds</th>\n",
       "      <td>-8.029293</td>\n",
       "      <td>-5.205343</td>\n",
       "      <td>2.823950</td>\n",
       "    </tr>\n",
       "    <tr>\n",
       "      <th>yellow</th>\n",
       "      <td>-7.572579</td>\n",
       "      <td>-4.921919</td>\n",
       "      <td>2.650660</td>\n",
       "    </tr>\n",
       "  </tbody>\n",
       "</table>\n",
       "</div>"
      ],
      "text/plain": [
       "         Hate Speech  Offensive Language  No Hate and Offensive\n",
       "bird       -8.329240           -4.718112               3.611128\n",
       "charlie    -8.329240           -4.737702               3.591539\n",
       "yankees    -7.849915           -4.787287               3.062628\n",
       "birds      -8.029293           -5.205343               2.823950\n",
       "yellow     -7.572579           -4.921919               2.650660"
      ]
     },
     "execution_count": 71,
     "metadata": {},
     "output_type": "execute_result"
    }
   ],
   "source": [
    "# Extracting feature importance\n",
    "feature_names = vectorizer.get_feature_names_out()\n",
    "log_prob = model.feature_log_prob_\n",
    "importance = pd.DataFrame(log_prob, columns=feature_names).T\n",
    "importance.columns = ['Hate Speech', 'Offensive Language', 'No Hate and Offensive']\n",
    "importance['No Hate and Offensive'] = importance['Offensive Language'] - importance['Hate Speech']\n",
    "importance = importance.sort_values('No Hate and Offensive', ascending=False)\n",
    "importance.head()"
   ]
  },
  {
   "cell_type": "markdown",
   "id": "0e4c9eb3-3056-47ff-af3c-cb1b02a1bd5d",
   "metadata": {},
   "source": [
    "## 12. Experimentation\n",
    "\n",
    "### Did you achieve your evaluation metric?\n",
    "If not, consider:\n",
    "- Collecting more data\n",
    "- Trying a better model\n",
    "- Improving the current model"
   ]
  },
  {
   "cell_type": "code",
   "execution_count": 74,
   "id": "47143478-2eed-4dcc-818c-d31a93481510",
   "metadata": {
    "tags": []
   },
   "outputs": [
    {
     "name": "stdout",
     "output_type": "stream",
     "text": [
      "                       precision    recall  f1-score   support\n",
      "\n",
      "          Hate Speech       0.47      0.12      0.20       290\n",
      "No Hate and Offensive       0.82      0.81      0.82       835\n",
      "   Offensive Language       0.91      0.96      0.93      3832\n",
      "\n",
      "             accuracy                           0.89      4957\n",
      "            macro avg       0.73      0.63      0.65      4957\n",
      "         weighted avg       0.87      0.89      0.87      4957\n",
      "\n"
     ]
    }
   ],
   "source": [
    "# Example: Trying a different model\n",
    "from sklearn.ensemble import RandomForestClassifier\n",
    "\n",
    "# Model training\n",
    "rf_model = RandomForestClassifier()\n",
    "rf_model.fit(X_train_vect, y_train)\n",
    "\n",
    "# Predictions\n",
    "rf_pred = rf_model.predict(X_test_vect)\n",
    "\n",
    "# Evaluation\n",
    "print(classification_report(y_test, rf_pred))"
   ]
  },
  {
   "cell_type": "markdown",
   "id": "cd880b04-8e85-4a96-9860-9f3708abc64e",
   "metadata": {},
   "source": [
    "## 13. Save the Model"
   ]
  },
  {
   "cell_type": "code",
   "execution_count": 77,
   "id": "8e844bb4-c5db-4e2e-8094-49868c2d6801",
   "metadata": {
    "tags": []
   },
   "outputs": [
    {
     "data": {
      "text/plain": [
       "['hate_speech_model.pkl']"
      ]
     },
     "execution_count": 77,
     "metadata": {},
     "output_type": "execute_result"
    }
   ],
   "source": [
    "import joblib\n",
    "\n",
    "# Saving the model\n",
    "joblib.dump(model, 'hate_speech_model.pkl')\n"
   ]
  },
  {
   "cell_type": "markdown",
   "id": "e857c2e4-13ec-4976-90ef-4ba53591ba57",
   "metadata": {},
   "source": [
    "#### See You Soon"
   ]
  },
  {
   "cell_type": "code",
   "execution_count": null,
   "id": "4ded409d-2390-4455-90dd-2e87186b98c7",
   "metadata": {},
   "outputs": [],
   "source": []
  }
 ],
 "metadata": {
  "kernelspec": {
   "display_name": "Python 3 (ipykernel)",
   "language": "python",
   "name": "python3"
  },
  "language_info": {
   "codemirror_mode": {
    "name": "ipython",
    "version": 3
   },
   "file_extension": ".py",
   "mimetype": "text/x-python",
   "name": "python",
   "nbconvert_exporter": "python",
   "pygments_lexer": "ipython3",
   "version": "3.11.7"
  }
 },
 "nbformat": 4,
 "nbformat_minor": 5
}
